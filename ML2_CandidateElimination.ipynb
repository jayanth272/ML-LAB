{
  "nbformat": 4,
  "nbformat_minor": 0,
  "metadata": {
    "colab": {
      "provenance": [],
      "authorship_tag": "ABX9TyPNKcAXWRCcNU9/ouE87rfn",
      "include_colab_link": true
    },
    "kernelspec": {
      "name": "python3",
      "display_name": "Python 3"
    },
    "language_info": {
      "name": "python"
    }
  },
  "cells": [
    {
      "cell_type": "markdown",
      "metadata": {
        "id": "view-in-github",
        "colab_type": "text"
      },
      "source": [
        "<a href=\"https://colab.research.google.com/github/jayanth272/ML-LAB/blob/main/ML2_CandidateElimination.ipynb\" target=\"_parent\"><img src=\"https://colab.research.google.com/assets/colab-badge.svg\" alt=\"Open In Colab\"/></a>"
      ]
    },
    {
      "cell_type": "code",
      "execution_count": null,
      "metadata": {
        "colab": {
          "base_uri": "https://localhost:8080/"
        },
        "id": "JrqDMlesSrTm",
        "outputId": "da106a93-ab7c-420a-db16-309775263015"
      },
      "outputs": [
        {
          "output_type": "stream",
          "name": "stdout",
          "text": [
            "Mounted at /content/drive\n",
            "     sky  temp humidity    wind water forcast enjoysport\n",
            "0  sunny  warm   normal  strong  warm    same        yes\n",
            "1  sunny  warm     high  strong  warm    same        yes\n",
            "2  rainy  cold     high  strong  warm  change         no\n",
            "3  sunny  warm     high  strong  cool  change        yes \n",
            "\n"
          ]
        }
      ],
      "source": [
        "import numpy as np\n",
        "import pandas as pd\n",
        "from google.colab import drive\n",
        "drive.mount('/content/drive')\n",
        "data = pd.DataFrame(data=pd.read_csv('/content/drive/MyDrive/enjoysport.csv'))\n",
        "print(data,\"\\n\")"
      ]
    },
    {
      "cell_type": "code",
      "source": [
        "#making an array of all the attributes\n",
        "concepts = np.array(data.iloc[:,0:-1])\n",
        "print(\"The attributes are: \",concepts)\n",
        "\n",
        "#segragating the target that has positive and negative examples\n",
        "target = np.array(data.iloc[:,-1])\n",
        "print(\"\\n The target is: \",target)\n",
        "\n",
        "#training function to implement candidate_elimination algorithm\n",
        "def learn(concepts, target):\n",
        " specific_h = concepts[0].copy()\n",
        " print(\"\\n Initialization of specific_h and general_h\")\n",
        " print(specific_h)\n",
        " general_h = [[\"?\" for i in range(len(specific_h))] for i in\n",
        "range(len(specific_h))]\n",
        " print(general_h)\n",
        " for i, h in enumerate(concepts):\n",
        "     if target[i] == \"yes\":\n",
        "         for x in range(len(specific_h)):\n",
        "             if h[x]!= specific_h[x]:\n",
        "                 specific_h[x] ='?'\n",
        "                 general_h[x][x] ='?'\n",
        "             print(specific_h)\n",
        "     print(specific_h)\n",
        "     if target[i] == \"no\":\n",
        "         for x in range(len(specific_h)):\n",
        "             if h[x]!= specific_h[x]:\n",
        "                 general_h[x][x] = specific_h[x]\n",
        "             else:\n",
        "                 general_h[x][x] = '?'\n",
        "     print(\"\\n Steps of Candidate Elimination Algorithm\",i+1)\n",
        "     print(specific_h)\n",
        "     print(general_h)\n",
        " indices = [i for i, val in enumerate(general_h) if val ==\n",
        "['?', '?', '?', '?', '?', '?']]\n",
        " for i in indices:\n",
        "     general_h.remove(['?', '?', '?', '?', '?', '?'])\n",
        " return specific_h, general_h\n",
        "s_final, g_final = learn(concepts, target)\n",
        "\n",
        "#obtaining the final hypothesis\n",
        "print(\"\\nFinal Specific_h:\", s_final, sep=\"\\n\")\n",
        "print(\"\\nFinal General_h:\", g_final, sep=\"\\n\")"
      ],
      "metadata": {
        "colab": {
          "base_uri": "https://localhost:8080/"
        },
        "id": "7_5qG-uWTKn0",
        "outputId": "c6304106-7401-4843-d155-5c161a10ab54"
      },
      "execution_count": null,
      "outputs": [
        {
          "output_type": "stream",
          "name": "stdout",
          "text": [
            "The attributes are:  [['sunny' 'warm' 'normal' 'strong' 'warm' 'same']\n",
            " ['sunny' 'warm' 'high' 'strong' 'warm' 'same']\n",
            " ['rainy' 'cold' 'high' 'strong' 'warm' 'change']\n",
            " ['sunny' 'warm' 'high' 'strong' 'cool' 'change']]\n",
            "\n",
            " The target is:  ['yes' 'yes' 'no' 'yes']\n",
            "\n",
            " Initialization of specific_h and general_h\n",
            "['sunny' 'warm' 'normal' 'strong' 'warm' 'same']\n",
            "[['?', '?', '?', '?', '?', '?'], ['?', '?', '?', '?', '?', '?'], ['?', '?', '?', '?', '?', '?'], ['?', '?', '?', '?', '?', '?'], ['?', '?', '?', '?', '?', '?'], ['?', '?', '?', '?', '?', '?']]\n",
            "['sunny' 'warm' 'normal' 'strong' 'warm' 'same']\n",
            "['sunny' 'warm' 'normal' 'strong' 'warm' 'same']\n",
            "['sunny' 'warm' 'normal' 'strong' 'warm' 'same']\n",
            "['sunny' 'warm' 'normal' 'strong' 'warm' 'same']\n",
            "['sunny' 'warm' 'normal' 'strong' 'warm' 'same']\n",
            "['sunny' 'warm' 'normal' 'strong' 'warm' 'same']\n",
            "['sunny' 'warm' 'normal' 'strong' 'warm' 'same']\n",
            "\n",
            " Steps of Candidate Elimination Algorithm 1\n",
            "['sunny' 'warm' 'normal' 'strong' 'warm' 'same']\n",
            "[['?', '?', '?', '?', '?', '?'], ['?', '?', '?', '?', '?', '?'], ['?', '?', '?', '?', '?', '?'], ['?', '?', '?', '?', '?', '?'], ['?', '?', '?', '?', '?', '?'], ['?', '?', '?', '?', '?', '?']]\n",
            "['sunny' 'warm' 'normal' 'strong' 'warm' 'same']\n",
            "['sunny' 'warm' 'normal' 'strong' 'warm' 'same']\n",
            "['sunny' 'warm' '?' 'strong' 'warm' 'same']\n",
            "['sunny' 'warm' '?' 'strong' 'warm' 'same']\n",
            "['sunny' 'warm' '?' 'strong' 'warm' 'same']\n",
            "['sunny' 'warm' '?' 'strong' 'warm' 'same']\n",
            "['sunny' 'warm' '?' 'strong' 'warm' 'same']\n",
            "\n",
            " Steps of Candidate Elimination Algorithm 2\n",
            "['sunny' 'warm' '?' 'strong' 'warm' 'same']\n",
            "[['?', '?', '?', '?', '?', '?'], ['?', '?', '?', '?', '?', '?'], ['?', '?', '?', '?', '?', '?'], ['?', '?', '?', '?', '?', '?'], ['?', '?', '?', '?', '?', '?'], ['?', '?', '?', '?', '?', '?']]\n",
            "['sunny' 'warm' '?' 'strong' 'warm' 'same']\n",
            "\n",
            " Steps of Candidate Elimination Algorithm 3\n",
            "['sunny' 'warm' '?' 'strong' 'warm' 'same']\n",
            "[['sunny', '?', '?', '?', '?', '?'], ['?', 'warm', '?', '?', '?', '?'], ['?', '?', '?', '?', '?', '?'], ['?', '?', '?', '?', '?', '?'], ['?', '?', '?', '?', '?', '?'], ['?', '?', '?', '?', '?', 'same']]\n",
            "['sunny' 'warm' '?' 'strong' 'warm' 'same']\n",
            "['sunny' 'warm' '?' 'strong' 'warm' 'same']\n",
            "['sunny' 'warm' '?' 'strong' 'warm' 'same']\n",
            "['sunny' 'warm' '?' 'strong' 'warm' 'same']\n",
            "['sunny' 'warm' '?' 'strong' '?' 'same']\n",
            "['sunny' 'warm' '?' 'strong' '?' '?']\n",
            "['sunny' 'warm' '?' 'strong' '?' '?']\n",
            "\n",
            " Steps of Candidate Elimination Algorithm 4\n",
            "['sunny' 'warm' '?' 'strong' '?' '?']\n",
            "[['sunny', '?', '?', '?', '?', '?'], ['?', 'warm', '?', '?', '?', '?'], ['?', '?', '?', '?', '?', '?'], ['?', '?', '?', '?', '?', '?'], ['?', '?', '?', '?', '?', '?'], ['?', '?', '?', '?', '?', '?']]\n",
            "\n",
            "Final Specific_h:\n",
            "['sunny' 'warm' '?' 'strong' '?' '?']\n",
            "\n",
            "Final General_h:\n",
            "[['sunny', '?', '?', '?', '?', '?'], ['?', 'warm', '?', '?', '?', '?']]\n"
          ]
        }
      ]
    }
  ]
}