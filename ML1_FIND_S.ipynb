{
  "nbformat": 4,
  "nbformat_minor": 0,
  "metadata": {
    "colab": {
      "provenance": [],
      "authorship_tag": "ABX9TyOQryz4VFpz8tQXVckV5v4K",
      "include_colab_link": true
    },
    "kernelspec": {
      "name": "python3",
      "display_name": "Python 3"
    },
    "language_info": {
      "name": "python"
    }
  },
  "cells": [
    {
      "cell_type": "markdown",
      "metadata": {
        "id": "view-in-github",
        "colab_type": "text"
      },
      "source": [
        "<a href=\"https://colab.research.google.com/github/jayanth272/ML-LAB/blob/main/ML1_FIND_S.ipynb\" target=\"_parent\"><img src=\"https://colab.research.google.com/assets/colab-badge.svg\" alt=\"Open In Colab\"/></a>"
      ]
    },
    {
      "cell_type": "code",
      "execution_count": 9,
      "metadata": {
        "colab": {
          "base_uri": "https://localhost:8080/"
        },
        "id": "zuhYc_6_LA3Z",
        "outputId": "5baf1724-668c-41b5-8801-28a62888441d"
      },
      "outputs": [
        {
          "output_type": "stream",
          "name": "stdout",
          "text": [
            "Drive already mounted at /content/drive; to attempt to forcibly remount, call drive.mount(\"/content/drive\", force_remount=True).\n"
          ]
        }
      ],
      "source": [
        "import pandas as pd\n",
        "import numpy as np\n",
        "from google.colab import drive\n",
        "drive.mount(\"/content/drive\")"
      ]
    },
    {
      "cell_type": "code",
      "source": [
        "data = pd.read_csv(\"/content/drive/MyDrive/finddata.csv\")\n",
        "print(data)"
      ],
      "metadata": {
        "colab": {
          "base_uri": "https://localhost:8080/"
        },
        "id": "ZS19o2NyNlH8",
        "outputId": "58551406-d15d-47e8-b468-167f5cf93bda"
      },
      "execution_count": 7,
      "outputs": [
        {
          "output_type": "stream",
          "name": "stdout",
          "text": [
            "      Time Weather Temperature Company Humidity    Wind Goes\n",
            "0  Morning   Sunny        Warm     Yes     Mild  Strong  Yes\n",
            "1  Evening   Rainy        Cold      No     Mild  Normal   No\n",
            "2  Morning   Sunny    Moderate     Yes   Normal  Normal  Yes\n",
            "3  Evening   Sunny        Cold     Yes     High  Strong  Yes\n"
          ]
        }
      ]
    },
    {
      "cell_type": "code",
      "source": [
        "d = np.array(data)[:,:-1]\n",
        "print(\"\\n The attributes are: \",d)\n",
        "target = np.array(data)[:,-1]\n",
        "print(\"\\n The target is: \",target)"
      ],
      "metadata": {
        "colab": {
          "base_uri": "https://localhost:8080/"
        },
        "id": "auzQ4b2_QOjh",
        "outputId": "1b75eab6-f3f6-481b-b3ac-57fe84577222"
      },
      "execution_count": 10,
      "outputs": [
        {
          "output_type": "stream",
          "name": "stdout",
          "text": [
            "\n",
            " The attributes are:  [['Morning' 'Sunny' 'Warm' 'Yes' 'Mild' 'Strong']\n",
            " ['Evening' 'Rainy' 'Cold' 'No' 'Mild' 'Normal']\n",
            " ['Morning' 'Sunny' 'Moderate' 'Yes' 'Normal' 'Normal']\n",
            " ['Evening' 'Sunny' 'Cold' 'Yes' 'High' 'Strong']]\n",
            "\n",
            " The target is:  ['Yes' 'No' 'Yes' 'Yes']\n"
          ]
        }
      ]
    },
    {
      "cell_type": "code",
      "source": [
        "def findS(c,t):\n",
        "    for i, val in enumerate(t):\n",
        "        if val == \"Yes\":\n",
        "            specific_hypothesis = c[i].copy()\n",
        "            break\n",
        "             \n",
        "    for i, val in enumerate(c):\n",
        "        if t[i] == \"Yes\":\n",
        "            for x in range(len(specific_hypothesis)):\n",
        "                if val[x] != specific_hypothesis[x]:\n",
        "                    specific_hypothesis[x] = '?'\n",
        "                else:\n",
        "                    pass\n",
        "                 \n",
        "    return specific_hypothesis\n",
        " \n",
        "print(\"\\n The final hypothesis is:\",findS(d,target))"
      ],
      "metadata": {
        "colab": {
          "base_uri": "https://localhost:8080/"
        },
        "id": "_Mxo4GSGQV4E",
        "outputId": "5bae3b70-2da8-4a1f-ac2b-3d9e37c56c4f"
      },
      "execution_count": 11,
      "outputs": [
        {
          "output_type": "stream",
          "name": "stdout",
          "text": [
            "\n",
            " The final hypothesis is: ['?' 'Sunny' '?' 'Yes' '?' '?']\n"
          ]
        }
      ]
    }
  ]
}